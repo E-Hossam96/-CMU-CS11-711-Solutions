{
  "nbformat": 4,
  "nbformat_minor": 0,
  "metadata": {
    "colab": {
      "provenance": [],
      "collapsed_sections": []
    },
    "kernelspec": {
      "name": "python3",
      "display_name": "Python 3"
    },
    "language_info": {
      "name": "python"
    },
    "gpuClass": "standard"
  },
  "cells": [
    {
      "cell_type": "code",
      "source": [
        "%%shell\n",
        "python test_minnn.py minnn.py"
      ],
      "metadata": {
        "colab": {
          "base_uri": "https://localhost:8080/"
        },
        "id": "d1RHbZQBE4dq",
        "outputId": "e8eeb9a7-ec21-46cd-ff4b-bf5dbebd803d"
      },
      "execution_count": null,
      "outputs": [
        {
          "output_type": "stream",
          "name": "stdout",
          "text": [
            "Use numpy!\n",
            "Pass accumulate_grad!\n",
            "Pass accumulate_grad_sparse!\n",
            "Pass xavier_uniform!\n",
            "Pass momentum_update!\n",
            "Pass lookup!\n",
            "Pass dot!\n",
            "Pass tanh!\n",
            "Pass avg!\n",
            "Pass max!\n"
          ]
        },
        {
          "output_type": "execute_result",
          "data": {
            "text/plain": []
          },
          "metadata": {},
          "execution_count": 1
        }
      ]
    },
    {
      "cell_type": "code",
      "source": [
        "%%shell\n",
        "python classifier.py"
      ],
      "metadata": {
        "colab": {
          "base_uri": "https://localhost:8080/"
        },
        "id": "01lftXepFNW0",
        "outputId": "af805d8f-c99a-4c74-ac7f-cb3c59894587"
      },
      "execution_count": null,
      "outputs": [
        {
          "output_type": "stream",
          "name": "stdout",
          "text": [
            "Use numpy!\n",
            "RUN: {'train': 'data/sst-train.txt', 'dev': 'data/sst-dev.txt', 'test': 'data/sst-test.txt', 'emb_size': 64, 'hid_size': 64, 'hid_layer': 2, 'word_drop': 0.2, 'emb_drop': 0.333, 'hid_drop': 0.333, 'pooling_method': 'max', 'iters': 20, 'lrate': 0.015, 'lrate_decay': 1.0, 'mrate': 0.85, 'accu_step': 10, 'model': 'model.npz', 'do_gradient_check': 0, 'dev_output': 'output.dev.txt', 'test_output': 'output.test.txt'}\n",
            "iter 0: train loss/sent=1.5735, time=21.73s\n",
            "iter 0: dev acc=0.2625; best=Iter0(0.2625)\n",
            "iter 1: train loss/sent=1.5716, time=22.01s\n",
            "iter 1: dev acc=0.2534; best=Iter0(0.2625)\n",
            "iter 2: train loss/sent=1.5706, time=21.23s\n",
            "iter 2: dev acc=0.2625; best=Iter0(0.2625)\n",
            "iter 3: train loss/sent=1.5701, time=20.49s\n",
            "iter 3: dev acc=0.2534; best=Iter0(0.2625)\n",
            "iter 4: train loss/sent=1.5716, time=20.39s\n",
            "iter 4: dev acc=0.2779; best=Iter4(0.2779)\n",
            "iter 5: train loss/sent=1.5705, time=21.18s\n",
            "iter 5: dev acc=0.2534; best=Iter4(0.2779)\n",
            "iter 6: train loss/sent=1.5708, time=20.72s\n",
            "iter 6: dev acc=0.2534; best=Iter4(0.2779)\n",
            "iter 7: train loss/sent=1.5710, time=20.02s\n",
            "iter 7: dev acc=0.2534; best=Iter4(0.2779)\n",
            "iter 8: train loss/sent=1.5699, time=20.06s\n",
            "iter 8: dev acc=0.2716; best=Iter4(0.2779)\n",
            "iter 9: train loss/sent=1.5706, time=20.29s\n",
            "iter 9: dev acc=0.2534; best=Iter4(0.2779)\n",
            "iter 10: train loss/sent=1.5697, time=19.96s\n",
            "iter 10: dev acc=0.2652; best=Iter4(0.2779)\n",
            "iter 11: train loss/sent=1.5707, time=20.12s\n",
            "iter 11: dev acc=0.2534; best=Iter4(0.2779)\n",
            "iter 12: train loss/sent=1.5697, time=20.14s\n",
            "iter 12: dev acc=0.2534; best=Iter4(0.2779)\n",
            "iter 13: train loss/sent=1.5696, time=20.27s\n",
            "iter 13: dev acc=0.2534; best=Iter4(0.2779)\n",
            "iter 14: train loss/sent=1.5702, time=20.39s\n",
            "iter 14: dev acc=0.2534; best=Iter4(0.2779)\n",
            "iter 15: train loss/sent=1.5697, time=20.06s\n",
            "iter 15: dev acc=0.2670; best=Iter4(0.2779)\n",
            "iter 16: train loss/sent=1.5695, time=20.30s\n",
            "iter 16: dev acc=0.2534; best=Iter4(0.2779)\n",
            "iter 17: train loss/sent=1.5688, time=20.41s\n",
            "iter 17: dev acc=0.2534; best=Iter4(0.2779)\n",
            "iter 18: train loss/sent=1.5687, time=20.73s\n",
            "iter 18: dev acc=0.2534; best=Iter4(0.2779)\n",
            "iter 19: train loss/sent=1.5695, time=20.42s\n",
            "iter 19: dev acc=0.2534; best=Iter4(0.2779)\n",
            "iter None: dev acc=0.2779\n",
            "iter None: test acc=0.2674\n"
          ]
        },
        {
          "output_type": "execute_result",
          "data": {
            "text/plain": []
          },
          "metadata": {},
          "execution_count": 2
        }
      ]
    },
    {
      "cell_type": "code",
      "source": [
        "%%shell\n",
        "python tune.py"
      ],
      "metadata": {
        "colab": {
          "base_uri": "https://localhost:8080/"
        },
        "id": "Dzt8AxrHHuMQ",
        "outputId": "34d0b54c-afbd-4a0b-c510-b321d1bef2f3"
      },
      "execution_count": null,
      "outputs": [
        {
          "output_type": "stream",
          "name": "stdout",
          "text": [
            "All tasks = 24\n",
            "Start task 0:  --lrate 0.015 --mrate 0.85 --accu_step 1\n",
            "Start task 1:  --lrate 0.01 --mrate 0.9 --accu_step 1\n",
            "Start task 2:  --lrate 0.015 --mrate 0.9 --accu_step 1\n",
            "Start task 3:  --lrate 0.015 --mrate 0.85 --accu_step 10\n",
            "Start task 4:  --lrate 0.01 --mrate 0.85 --accu_step 10\n",
            "Start task 5:  --lrate 0.02 --mrate 0.85 --accu_step 16\n",
            "Start task 6:  --lrate 0.015 --mrate 0.9 --accu_step 10\n",
            "Start task 7:  --lrate 0.01 --mrate 0.85 --accu_step 4\n",
            "End task 5:  --lrate 0.02 --mrate 0.85 --accu_step 16\n",
            "Start task 8:  --lrate 0.02 --mrate 0.85 --accu_step 1\n",
            "End task 6:  --lrate 0.015 --mrate 0.9 --accu_step 10\n",
            "Start task 9:  --lrate 0.015 --mrate 0.9 --accu_step 16\n",
            "End task 3:  --lrate 0.015 --mrate 0.85 --accu_step 10\n",
            "Start task 10:  --lrate 0.02 --mrate 0.9 --accu_step 16\n",
            "End task 4:  --lrate 0.01 --mrate 0.85 --accu_step 10\n",
            "Start task 11:  --lrate 0.015 --mrate 0.9 --accu_step 4\n",
            "End task 7:  --lrate 0.01 --mrate 0.85 --accu_step 4\n",
            "Start task 12:  --lrate 0.01 --mrate 0.85 --accu_step 16\n",
            "End task 2:  --lrate 0.015 --mrate 0.9 --accu_step 1\n",
            "Start task 13:  --lrate 0.015 --mrate 0.85 --accu_step 16\n",
            "End task 1:  --lrate 0.01 --mrate 0.9 --accu_step 1\n",
            "Start task 14:  --lrate 0.01 --mrate 0.85 --accu_step 1\n",
            "End task 0:  --lrate 0.015 --mrate 0.85 --accu_step 1\n",
            "Start task 15:  --lrate 0.02 --mrate 0.9 --accu_step 10\n",
            "End task 10:  --lrate 0.02 --mrate 0.9 --accu_step 16\n",
            "Start task 16:  --lrate 0.01 --mrate 0.9 --accu_step 4\n",
            "End task 9:  --lrate 0.015 --mrate 0.9 --accu_step 16\n",
            "Start task 17:  --lrate 0.01 --mrate 0.9 --accu_step 16\n",
            "End task 12:  --lrate 0.01 --mrate 0.85 --accu_step 16\n",
            "Start task 18:  --lrate 0.01 --mrate 0.9 --accu_step 10\n",
            "End task 11:  --lrate 0.015 --mrate 0.9 --accu_step 4\n",
            "Start task 19:  --lrate 0.015 --mrate 0.85 --accu_step 4\n",
            "End task 13:  --lrate 0.015 --mrate 0.85 --accu_step 16\n",
            "Start task 20:  --lrate 0.02 --mrate 0.9 --accu_step 1\n",
            "End task 8:  --lrate 0.02 --mrate 0.85 --accu_step 1\n",
            "Start task 21:  --lrate 0.02 --mrate 0.85 --accu_step 4\n",
            "End task 15:  --lrate 0.02 --mrate 0.9 --accu_step 10\n",
            "Start task 22:  --lrate 0.02 --mrate 0.9 --accu_step 4\n",
            "End task 17:  --lrate 0.01 --mrate 0.9 --accu_step 16\n",
            "Start task 23:  --lrate 0.02 --mrate 0.85 --accu_step 10\n",
            "End task 18:  --lrate 0.01 --mrate 0.9 --accu_step 10\n",
            "End task 16:  --lrate 0.01 --mrate 0.9 --accu_step 4\n",
            "End task 19:  --lrate 0.015 --mrate 0.85 --accu_step 4\n",
            "End task 14:  --lrate 0.01 --mrate 0.85 --accu_step 1\n",
            "End task 23:  --lrate 0.02 --mrate 0.85 --accu_step 10\n",
            "End task 21:  --lrate 0.02 --mrate 0.85 --accu_step 4\n",
            "End task 22:  --lrate 0.02 --mrate 0.9 --accu_step 4\n"
          ]
        },
        {
          "output_type": "execute_result",
          "data": {
            "text/plain": []
          },
          "metadata": {},
          "execution_count": 4
        }
      ]
    }
  ]
}